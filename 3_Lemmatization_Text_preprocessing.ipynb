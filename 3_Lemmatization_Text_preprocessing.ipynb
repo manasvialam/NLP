{
  "nbformat": 4,
  "nbformat_minor": 0,
  "metadata": {
    "colab": {
      "provenance": []
    },
    "kernelspec": {
      "name": "python3",
      "display_name": "Python 3"
    },
    "language_info": {
      "name": "python"
    }
  },
  "cells": [
    {
      "cell_type": "markdown",
      "source": [
        "# Wordnet Lemmatizer\n",
        "\n",
        "Lemmatixation technique is like stemming. The output we will get after lemmatization is called 'lemma', which is a root word rather root stem, the output of stemming. After lemmatization, we will be gerring a valid word that means the same thind.\n",
        "\n",
        "NLTK provides WordNetLemmatization class which is a thin wrapper around the wordnet corpus. The class uses morphy() function to the WordNet CorpusReader class to find a lemma. Let us understand it with an example-\n",
        "\n",
        "Usecases - Q&A, Chatbots, text summarization"
      ],
      "metadata": {
        "id": "-qV0soL-6Wrl"
      }
    },
    {
      "cell_type": "code",
      "source": [
        "import nltk\n",
        "nltk.download('wordnet')"
      ],
      "metadata": {
        "colab": {
          "base_uri": "https://localhost:8080/"
        },
        "id": "3nAb8iJN8iho",
        "outputId": "f445a246-70fe-46e8-986c-453e322eb7ef"
      },
      "execution_count": null,
      "outputs": [
        {
          "output_type": "stream",
          "name": "stderr",
          "text": [
            "[nltk_data] Downloading package wordnet to /root/nltk_data...\n"
          ]
        },
        {
          "output_type": "execute_result",
          "data": {
            "text/plain": [
              "True"
            ]
          },
          "metadata": {},
          "execution_count": 2
        }
      ]
    },
    {
      "cell_type": "code",
      "source": [
        "from nltk.stem import WordNetLemmatizer"
      ],
      "metadata": {
        "id": "CxW4fwmN7NFv"
      },
      "execution_count": null,
      "outputs": []
    },
    {
      "cell_type": "code",
      "source": [
        "lemmatizer = WordNetLemmatizer()"
      ],
      "metadata": {
        "id": "U7GLHI9Q7k8l"
      },
      "execution_count": null,
      "outputs": []
    },
    {
      "cell_type": "code",
      "source": [
        "'''\n",
        "POS- Noun - n\n",
        "verb - v\n",
        "adjective - a\n",
        "adverb - r\n",
        "'''\n",
        "\n",
        "print(lemmatizer.lemmatize(\"going\", pos=\"n\"))\n",
        "print(lemmatizer.lemmatize(\"going\", pos=\"v\"))\n",
        "print(lemmatizer.lemmatize(\"going\", pos=\"a\"))\n",
        "print(lemmatizer.lemmatize(\"going\", pos=\"r\"))"
      ],
      "metadata": {
        "colab": {
          "base_uri": "https://localhost:8080/"
        },
        "id": "7sTpu_VF7lBG",
        "outputId": "32fd2b70-e849-4cd6-c2e9-c8d453e66b09"
      },
      "execution_count": null,
      "outputs": [
        {
          "output_type": "stream",
          "name": "stdout",
          "text": [
            "going\n",
            "go\n",
            "going\n",
            "going\n"
          ]
        }
      ]
    },
    {
      "cell_type": "code",
      "source": [
        "words = [\"eating\", \"eats\", \"eaten\", \"writing\", \"writes\", \"programming\", \"program\", \"programs\", \"history\", \"finally\", \"finalize\"]"
      ],
      "metadata": {
        "id": "DkxbNKAe7lDY"
      },
      "execution_count": null,
      "outputs": []
    },
    {
      "cell_type": "code",
      "source": [
        "for word in words:\n",
        "  print(word+\"----->\"+ lemmatizer.lemmatize(word))\n",
        "#by default the pos=\"n\" so that many words are considered noun in itself"
      ],
      "metadata": {
        "colab": {
          "base_uri": "https://localhost:8080/"
        },
        "id": "SIGg_O9u7lFh",
        "outputId": "1fd4a488-7d61-4d99-c124-5104e43b6185"
      },
      "execution_count": null,
      "outputs": [
        {
          "output_type": "stream",
          "name": "stdout",
          "text": [
            "eating----->eating\n",
            "eats----->eats\n",
            "eaten----->eaten\n",
            "writing----->writing\n",
            "writes----->writes\n",
            "programming----->programming\n",
            "program----->program\n",
            "programs----->program\n",
            "history----->history\n",
            "finally----->finally\n",
            "finalize----->finalize\n"
          ]
        }
      ]
    },
    {
      "cell_type": "code",
      "source": [
        "for word in words:\n",
        "  print(word+\"----->\"+ lemmatizer.lemmatize(word, pos='v'))"
      ],
      "metadata": {
        "colab": {
          "base_uri": "https://localhost:8080/"
        },
        "id": "SRujvpfszm_M",
        "outputId": "35138fd8-0544-4c15-f0d7-79383f1a2e9b"
      },
      "execution_count": null,
      "outputs": [
        {
          "output_type": "stream",
          "name": "stdout",
          "text": [
            "eating----->eat\n",
            "eats----->eat\n",
            "eaten----->eat\n",
            "writing----->write\n",
            "writes----->write\n",
            "programming----->program\n",
            "program----->program\n",
            "programs----->program\n",
            "history----->history\n",
            "finally----->finally\n",
            "finalize----->finalize\n"
          ]
        }
      ]
    },
    {
      "cell_type": "code",
      "source": [
        "lemmatizer.lemmatize(\"goes\",pos=\"v\")"
      ],
      "metadata": {
        "colab": {
          "base_uri": "https://localhost:8080/",
          "height": 35
        },
        "id": "g4f19vtO0FFU",
        "outputId": "dca40193-fa2b-496b-9dab-694bb547cb9b"
      },
      "execution_count": null,
      "outputs": [
        {
          "output_type": "execute_result",
          "data": {
            "text/plain": [
              "'go'"
            ],
            "application/vnd.google.colaboratory.intrinsic+json": {
              "type": "string"
            }
          },
          "metadata": {},
          "execution_count": 15
        }
      ]
    },
    {
      "cell_type": "code",
      "source": [
        "lemmatizer.lemmatize(\"fairly\",pos=\"v\"), lemmatizer.lemmatize(\"sportingly\")"
      ],
      "metadata": {
        "colab": {
          "base_uri": "https://localhost:8080/"
        },
        "id": "ZC8vih7X09Qh",
        "outputId": "6e788d0d-a953-43e2-e27c-d6a632c63aa8"
      },
      "execution_count": null,
      "outputs": [
        {
          "output_type": "execute_result",
          "data": {
            "text/plain": [
              "('fairly', 'sportingly')"
            ]
          },
          "metadata": {},
          "execution_count": 19
        }
      ]
    }
  ]
}