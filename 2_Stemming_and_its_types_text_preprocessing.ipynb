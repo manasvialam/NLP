{
  "nbformat": 4,
  "nbformat_minor": 0,
  "metadata": {
    "colab": {
      "provenance": []
    },
    "kernelspec": {
      "name": "python3",
      "display_name": "Python 3"
    },
    "language_info": {
      "name": "python"
    }
  },
  "cells": [
    {
      "cell_type": "markdown",
      "source": [
        "#Stemming\n",
        "\n",
        "Stemming is the process of reducing a word to its word stem that affixes to suffixes and prefixes or to the roots of words known as lemma. Stemming is important in natural language understanding (NLU) and natural language processing (NLP).\n",
        "\n"
      ],
      "metadata": {
        "id": "rOfqDlV26_ys"
      }
    },
    {
      "cell_type": "code",
      "source": [
        "## Classification problem\n",
        "## comments of product is a positive review or negative review\n",
        "## reviews ---> eating, eat, eaten (eat is the word stem of all these words), [going, gone, goes] ---> go\n",
        "\n",
        "words = [\"eating\", \"eats\", \"eaten\", \"writing\", \"writes\", \"programming\", \"program\", \"programs\", \"history\", \"finally\", \"finalize\"]"
      ],
      "metadata": {
        "id": "b3fsaChz8eRD"
      },
      "execution_count": null,
      "outputs": []
    },
    {
      "cell_type": "markdown",
      "source": [
        "## PorterStemmer"
      ],
      "metadata": {
        "id": "-f5m5Y-X-CC8"
      }
    },
    {
      "cell_type": "code",
      "source": [
        "from nltk.stem import PorterStemmer"
      ],
      "metadata": {
        "id": "q724Ye0q91Tz"
      },
      "execution_count": null,
      "outputs": []
    },
    {
      "cell_type": "code",
      "source": [
        "stemming = PorterStemmer()"
      ],
      "metadata": {
        "id": "M9RL3L8s91dn"
      },
      "execution_count": null,
      "outputs": []
    },
    {
      "cell_type": "code",
      "source": [
        "for word in words:\n",
        "  print(word+\" ---> \"+ stemming.stem(word))"
      ],
      "metadata": {
        "colab": {
          "base_uri": "https://localhost:8080/"
        },
        "id": "Py7wFgmp91gu",
        "outputId": "6b80172a-d1c9-467d-f6d7-47b8105eb494"
      },
      "execution_count": null,
      "outputs": [
        {
          "output_type": "stream",
          "name": "stdout",
          "text": [
            "eating ---> eat\n",
            "eats ---> eat\n",
            "eaten ---> eaten\n",
            "writing ---> write\n",
            "writes ---> write\n",
            "programming ---> program\n",
            "program ---> program\n",
            "programs ---> program\n",
            "history ---> histori\n",
            "finally ---> final\n",
            "finalize ---> final\n"
          ]
        }
      ]
    },
    {
      "cell_type": "code",
      "source": [
        "stemming.stem(\"sitting\")"
      ],
      "metadata": {
        "colab": {
          "base_uri": "https://localhost:8080/",
          "height": 35
        },
        "id": "q8KM55Wd91i-",
        "outputId": "b5f81775-178b-4256-fecd-e76359722196"
      },
      "execution_count": null,
      "outputs": [
        {
          "output_type": "execute_result",
          "data": {
            "text/plain": [
              "'sit'"
            ],
            "application/vnd.google.colaboratory.intrinsic+json": {
              "type": "string"
            }
          },
          "metadata": {},
          "execution_count": 12
        }
      ]
    },
    {
      "cell_type": "markdown",
      "source": [
        "# RegexpStemmer class\n",
        "\n",
        "NLTK has RegexpStemmer class with the help of which we can easily implement Regular Expression Stemmer algorithms. It basically takes a single regular expression and remove prefix or suffix that matched the expression. Let us see an example"
      ],
      "metadata": {
        "id": "JQjNpd9R8YgJ"
      }
    },
    {
      "cell_type": "code",
      "source": [
        "from nltk.stem import RegexpStemmer"
      ],
      "metadata": {
        "id": "9dySxANpAHid"
      },
      "execution_count": null,
      "outputs": []
    },
    {
      "cell_type": "code",
      "source": [
        "reg_stemmer = RegexpStemmer('ing$|s$|e$|able$', min=4)\n",
        "# \"$\" represents position of the suffix or prefix"
      ],
      "metadata": {
        "id": "IAKQFf-fAM5s"
      },
      "execution_count": null,
      "outputs": []
    },
    {
      "cell_type": "code",
      "source": [
        "reg_stemmer.stem(\"eating\")"
      ],
      "metadata": {
        "colab": {
          "base_uri": "https://localhost:8080/",
          "height": 35
        },
        "id": "bLHs0YnuAM8L",
        "outputId": "2483e078-f7a7-4a6f-f6be-dadc88a7f26a"
      },
      "execution_count": null,
      "outputs": [
        {
          "output_type": "execute_result",
          "data": {
            "text/plain": [
              "'eat'"
            ],
            "application/vnd.google.colaboratory.intrinsic+json": {
              "type": "string"
            }
          },
          "metadata": {},
          "execution_count": 16
        }
      ]
    },
    {
      "cell_type": "code",
      "source": [
        "reg_stemmer.stem(\"ingeating\")"
      ],
      "metadata": {
        "colab": {
          "base_uri": "https://localhost:8080/",
          "height": 35
        },
        "id": "MgVrovjrAM-k",
        "outputId": "8f89488c-081c-4b41-9c43-7c8548093a6c"
      },
      "execution_count": null,
      "outputs": [
        {
          "output_type": "execute_result",
          "data": {
            "text/plain": [
              "'ingeat'"
            ],
            "application/vnd.google.colaboratory.intrinsic+json": {
              "type": "string"
            }
          },
          "metadata": {},
          "execution_count": 17
        }
      ]
    },
    {
      "cell_type": "code",
      "source": [
        "reg_stemmer = RegexpStemmer('ing|s$|e$|able$', min=4)\n",
        "reg_stemmer.stem(\"ingeating\")"
      ],
      "metadata": {
        "colab": {
          "base_uri": "https://localhost:8080/",
          "height": 35
        },
        "id": "zcWX_JoCANAu",
        "outputId": "e405038c-5c15-4e7e-8137-1b6fe4ad072a"
      },
      "execution_count": null,
      "outputs": [
        {
          "output_type": "execute_result",
          "data": {
            "text/plain": [
              "'eat'"
            ],
            "application/vnd.google.colaboratory.intrinsic+json": {
              "type": "string"
            }
          },
          "metadata": {},
          "execution_count": 18
        }
      ]
    },
    {
      "cell_type": "markdown",
      "source": [
        "# Snowball stemmer\n"
      ],
      "metadata": {
        "id": "DthXQC4gBOV1"
      }
    },
    {
      "cell_type": "code",
      "source": [
        "from nltk.stem import SnowballStemmer"
      ],
      "metadata": {
        "id": "ETEaAzD4Bq-g"
      },
      "execution_count": null,
      "outputs": []
    },
    {
      "cell_type": "code",
      "source": [
        "snowballstemmer = SnowballStemmer('english')"
      ],
      "metadata": {
        "id": "anvllLN9CDm_"
      },
      "execution_count": null,
      "outputs": []
    },
    {
      "cell_type": "code",
      "source": [
        "for word in words:\n",
        "  print(word+\" ---> \"+ snowballstemmer.stem(word))"
      ],
      "metadata": {
        "colab": {
          "base_uri": "https://localhost:8080/"
        },
        "id": "YxBUdLyaCK6W",
        "outputId": "5702ef95-0f5d-4706-8fc9-36bef8b67315"
      },
      "execution_count": null,
      "outputs": [
        {
          "output_type": "stream",
          "name": "stdout",
          "text": [
            "eating ---> eat\n",
            "eats ---> eat\n",
            "eaten ---> eaten\n",
            "writing ---> write\n",
            "writes ---> write\n",
            "programming ---> program\n",
            "program ---> program\n",
            "programs ---> program\n",
            "history ---> histori\n",
            "finally ---> final\n",
            "finalize ---> final\n"
          ]
        }
      ]
    },
    {
      "cell_type": "code",
      "source": [
        "# with porterstemmer\n",
        "stemming.stem(\"fairly\"), stemming.stem(\"sportingly\")"
      ],
      "metadata": {
        "colab": {
          "base_uri": "https://localhost:8080/"
        },
        "id": "pRspzLkmCXdS",
        "outputId": "7c6ede17-f318-439c-f925-923d8d9be6b1"
      },
      "execution_count": null,
      "outputs": [
        {
          "output_type": "execute_result",
          "data": {
            "text/plain": [
              "('fairli', 'sportingli')"
            ]
          },
          "metadata": {},
          "execution_count": 24
        }
      ]
    },
    {
      "cell_type": "code",
      "source": [
        "#with snowball stemmer --> performs better than porterstemmer\n",
        "snowballstemmer.stem(\"fairly\"), snowballstemmer.stem(\"sportingly\")"
      ],
      "metadata": {
        "colab": {
          "base_uri": "https://localhost:8080/"
        },
        "id": "cSBO1Y-HCkGb",
        "outputId": "8646503e-ef79-44ec-b593-46b6014df15c"
      },
      "execution_count": null,
      "outputs": [
        {
          "output_type": "execute_result",
          "data": {
            "text/plain": [
              "('fair', 'sport')"
            ]
          },
          "metadata": {},
          "execution_count": 25
        }
      ]
    },
    {
      "cell_type": "code",
      "source": [
        "# porter stemmer\n",
        "print(stemming.stem(\"goes\"))\n",
        "# snowball stemmer\n",
        "print(snowballstemmer.stem(\"goes\"))\n",
        "\n",
        "# as you can see for some words it is still not clear ---> so we use text lemmatization"
      ],
      "metadata": {
        "colab": {
          "base_uri": "https://localhost:8080/"
        },
        "id": "hpLKkJgMCsvt",
        "outputId": "cf17c6cf-ae51-4042-de16-656ad8d96d4e"
      },
      "execution_count": null,
      "outputs": [
        {
          "output_type": "stream",
          "name": "stdout",
          "text": [
            "goe\n",
            "goe\n"
          ]
        }
      ]
    },
    {
      "cell_type": "code",
      "source": [],
      "metadata": {
        "id": "3sJZdz_fDgBt"
      },
      "execution_count": null,
      "outputs": []
    }
  ]
}